{
 "cells": [
  {
   "cell_type": "code",
   "execution_count": 44,
   "id": "4ff76cda",
   "metadata": {},
   "outputs": [],
   "source": [
    "singulars = ['lunch', 'tax', 'gas', 'puppy', 'crush', 'fish', 'itch','boss', 'kiss', 'batch', 'box']"
   ]
  },
  {
   "cell_type": "code",
   "execution_count": 45,
   "id": "cf26ed6f",
   "metadata": {},
   "outputs": [],
   "source": [
    "def to_plural(noun: str) -> str:\n",
    "    \n",
    "    '''\n",
    "    \n",
    "     1. If the singular noun ends in ‑s, -ss, -sh, -ch, -x, or -z, add ‑es to the end to make it plural.\n",
    "     2. In some cases, singular nouns ending in -s or -z, require that you double the -s or -z prior to adding the -es for pluralization.\n",
    "     3. If a singular noun ends in ‑y and the letter before the -y is a consonant, change the ending to ‑ies to make the noun plural.\n",
    "     4. If the singular noun ends in -y and the letter before the -y is a vowel, simply add an -s to make it plural.\n",
    "    \n",
    "    '''\n",
    "    # raise exception of input is not a string\n",
    "    if type(noun) != str:\n",
    "        raise Exception(\"The input is not a string.\")\n",
    "    \n",
    "    suffixes = ('s', 'ss', 'sh', 'ch', 'x', 'z')\n",
    "    consonants = \"bcdfghjklmnpqrstvwxyz\"dd\n",
    "    vowels = \"aeiou\"\n",
    "    \n",
    "    # incorporate grammarly policies\n",
    "    if noun == 'gas' or noun == 'fez':\n",
    "        plural = noun + noun[-1] + 'es'\n",
    "        \n",
    "    elif noun.endswith(suffixes):\n",
    "        plural = noun + 'es'\n",
    "        \n",
    "    elif noun.endswith('y') and noun[-2] in consonants:\n",
    "        plural = noun[:-1] + 'ies'\n",
    "        \n",
    "    elif noun.endswith('y') and noun.lower()[0] in vowels:\n",
    "        plural = noun + 's'\n",
    "        \n",
    "    else:\n",
    "        plural = noun + 's'\n",
    "            \n",
    "    return plural"
   ]
  },
  {
   "cell_type": "code",
   "execution_count": 46,
   "id": "e5b4c96b",
   "metadata": {},
   "outputs": [
    {
     "data": {
      "text/plain": [
       "['lunches',\n",
       " 'taxes',\n",
       " 'gasses',\n",
       " 'puppies',\n",
       " 'crushes',\n",
       " 'fishes',\n",
       " 'itches',\n",
       " 'bosses',\n",
       " 'kisses',\n",
       " 'batches',\n",
       " 'boxes']"
      ]
     },
     "execution_count": 46,
     "metadata": {},
     "output_type": "execute_result"
    }
   ],
   "source": [
    "[to_plural(x) for x in singulars]"
   ]
  }
 ],
 "metadata": {
  "kernelspec": {
   "display_name": "Python 3.9.7 64-bit",
   "language": "python",
   "name": "python399jvsc74a57bd0b0fa6594d8f4cbf19f97940f81e996739fb7646882a419484c72d19e05852a7e"
  },
  "language_info": {
   "codemirror_mode": {
    "name": "ipython",
    "version": 3
   },
   "file_extension": ".py",
   "mimetype": "text/x-python",
   "name": "python",
   "nbconvert_exporter": "python",
   "pygments_lexer": "ipython3",
   "version": "3.9.10"
  }
 },
 "nbformat": 4,
 "nbformat_minor": 5
}
